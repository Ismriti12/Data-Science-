{
 "cells": [
  {
   "cell_type": "code",
   "execution_count": 1,
   "metadata": {},
   "outputs": [],
   "source": [
    "#loading libraries\n",
    "import numpy as np \n",
    "import pandas as pd\n",
    "import seaborn as sns\n",
    "import matplotlib.pylab as plt"
   ]
  },
  {
   "cell_type": "code",
   "execution_count": 2,
   "metadata": {},
   "outputs": [],
   "source": [
    "#loading datasets\n",
    "trainset=pd.read_csv('train_age_dataset.csv')\n",
    "testset = pd.read_csv(\"test_age_dataset.csv\")"
   ]
  },
  {
   "cell_type": "code",
   "execution_count": 3,
   "metadata": {},
   "outputs": [
    {
     "name": "stdout",
     "output_type": "stream",
     "text": [
      "<class 'pandas.core.frame.DataFrame'>\n",
      "RangeIndex: 488877 entries, 0 to 488876\n",
      "Data columns (total 27 columns):\n",
      " #   Column                           Non-Null Count   Dtype  \n",
      "---  ------                           --------------   -----  \n",
      " 0   Unnamed: 0                       488877 non-null  int64  \n",
      " 1   userId                           488877 non-null  int64  \n",
      " 2   tier                             488877 non-null  int64  \n",
      " 3   gender                           488877 non-null  int64  \n",
      " 4   following_rate                   488877 non-null  float64\n",
      " 5   followers_avg_age                488877 non-null  float64\n",
      " 6   following_avg_age                488877 non-null  float64\n",
      " 7   max_repetitive_punc              488877 non-null  int64  \n",
      " 8   num_of_hashtags_per_action       488877 non-null  float64\n",
      " 9   emoji_count_per_action           488877 non-null  float64\n",
      " 10  punctuations_per_action          488877 non-null  float64\n",
      " 11  number_of_words_per_action       488877 non-null  float64\n",
      " 12  avgCompletion                    488877 non-null  float64\n",
      " 13  avgTimeSpent                     488877 non-null  float64\n",
      " 14  avgDuration                      488877 non-null  float64\n",
      " 15  avgComments                      488877 non-null  int64  \n",
      " 16  creations                        488877 non-null  float64\n",
      " 17  content_views                    488877 non-null  float64\n",
      " 18  num_of_comments                  488877 non-null  float64\n",
      " 19  weekends_trails_watched_per_day  488877 non-null  float64\n",
      " 20  weekdays_trails_watched_per_day  488877 non-null  float64\n",
      " 21  slot1_trails_watched_per_day     488877 non-null  float64\n",
      " 22  slot2_trails_watched_per_day     488877 non-null  float64\n",
      " 23  slot3_trails_watched_per_day     488877 non-null  float64\n",
      " 24  slot4_trails_watched_per_day     488877 non-null  float64\n",
      " 25  avgt2                            488877 non-null  float64\n",
      " 26  age_group                        488877 non-null  int64  \n",
      "dtypes: float64(20), int64(7)\n",
      "memory usage: 100.7 MB\n"
     ]
    }
   ],
   "source": [
    "trainset.info()"
   ]
  },
  {
   "cell_type": "code",
   "execution_count": 4,
   "metadata": {},
   "outputs": [
    {
     "data": {
      "text/plain": [
       "Index(['Unnamed: 0', 'userId', 'tier', 'gender', 'following_rate',\n",
       "       'followers_avg_age', 'following_avg_age', 'max_repetitive_punc',\n",
       "       'num_of_hashtags_per_action', 'emoji_count_per_action',\n",
       "       'punctuations_per_action', 'number_of_words_per_action',\n",
       "       'avgCompletion', 'avgTimeSpent', 'avgDuration', 'avgComments',\n",
       "       'creations', 'content_views', 'num_of_comments',\n",
       "       'weekends_trails_watched_per_day', 'weekdays_trails_watched_per_day',\n",
       "       'slot1_trails_watched_per_day', 'slot2_trails_watched_per_day',\n",
       "       'slot3_trails_watched_per_day', 'slot4_trails_watched_per_day', 'avgt2',\n",
       "       'age_group'],\n",
       "      dtype='object')"
      ]
     },
     "execution_count": 4,
     "metadata": {},
     "output_type": "execute_result"
    }
   ],
   "source": [
    "trainset.columns"
   ]
  },
  {
   "cell_type": "code",
   "execution_count": 5,
   "metadata": {},
   "outputs": [
    {
     "data": {
      "text/html": [
       "<div>\n",
       "<style scoped>\n",
       "    .dataframe tbody tr th:only-of-type {\n",
       "        vertical-align: middle;\n",
       "    }\n",
       "\n",
       "    .dataframe tbody tr th {\n",
       "        vertical-align: top;\n",
       "    }\n",
       "\n",
       "    .dataframe thead th {\n",
       "        text-align: right;\n",
       "    }\n",
       "</style>\n",
       "<table border=\"1\" class=\"dataframe\">\n",
       "  <thead>\n",
       "    <tr style=\"text-align: right;\">\n",
       "      <th></th>\n",
       "      <th>Unnamed: 0</th>\n",
       "      <th>userId</th>\n",
       "      <th>tier</th>\n",
       "      <th>gender</th>\n",
       "      <th>following_rate</th>\n",
       "      <th>followers_avg_age</th>\n",
       "      <th>following_avg_age</th>\n",
       "      <th>max_repetitive_punc</th>\n",
       "      <th>num_of_hashtags_per_action</th>\n",
       "      <th>emoji_count_per_action</th>\n",
       "      <th>...</th>\n",
       "      <th>content_views</th>\n",
       "      <th>num_of_comments</th>\n",
       "      <th>weekends_trails_watched_per_day</th>\n",
       "      <th>weekdays_trails_watched_per_day</th>\n",
       "      <th>slot1_trails_watched_per_day</th>\n",
       "      <th>slot2_trails_watched_per_day</th>\n",
       "      <th>slot3_trails_watched_per_day</th>\n",
       "      <th>slot4_trails_watched_per_day</th>\n",
       "      <th>avgt2</th>\n",
       "      <th>age_group</th>\n",
       "    </tr>\n",
       "  </thead>\n",
       "  <tbody>\n",
       "    <tr>\n",
       "      <th>0</th>\n",
       "      <td>265153</td>\n",
       "      <td>48958844</td>\n",
       "      <td>2</td>\n",
       "      <td>1</td>\n",
       "      <td>0.0</td>\n",
       "      <td>0.0</td>\n",
       "      <td>0.0</td>\n",
       "      <td>0</td>\n",
       "      <td>0.0</td>\n",
       "      <td>0.0</td>\n",
       "      <td>...</td>\n",
       "      <td>0.200000</td>\n",
       "      <td>0.0</td>\n",
       "      <td>0.041667</td>\n",
       "      <td>0.025000</td>\n",
       "      <td>0.0</td>\n",
       "      <td>0.000000</td>\n",
       "      <td>0.175000</td>\n",
       "      <td>0.033333</td>\n",
       "      <td>0.0</td>\n",
       "      <td>1</td>\n",
       "    </tr>\n",
       "    <tr>\n",
       "      <th>1</th>\n",
       "      <td>405231</td>\n",
       "      <td>51100441</td>\n",
       "      <td>2</td>\n",
       "      <td>2</td>\n",
       "      <td>0.0</td>\n",
       "      <td>0.0</td>\n",
       "      <td>0.0</td>\n",
       "      <td>0</td>\n",
       "      <td>0.0</td>\n",
       "      <td>0.0</td>\n",
       "      <td>...</td>\n",
       "      <td>0.093220</td>\n",
       "      <td>0.0</td>\n",
       "      <td>0.012712</td>\n",
       "      <td>0.018644</td>\n",
       "      <td>0.0</td>\n",
       "      <td>0.084746</td>\n",
       "      <td>0.000000</td>\n",
       "      <td>0.033898</td>\n",
       "      <td>82.5</td>\n",
       "      <td>2</td>\n",
       "    </tr>\n",
       "    <tr>\n",
       "      <th>2</th>\n",
       "      <td>57867</td>\n",
       "      <td>6887426</td>\n",
       "      <td>2</td>\n",
       "      <td>1</td>\n",
       "      <td>0.0</td>\n",
       "      <td>0.0</td>\n",
       "      <td>0.0</td>\n",
       "      <td>0</td>\n",
       "      <td>0.0</td>\n",
       "      <td>0.0</td>\n",
       "      <td>...</td>\n",
       "      <td>0.002786</td>\n",
       "      <td>0.0</td>\n",
       "      <td>0.000000</td>\n",
       "      <td>0.000557</td>\n",
       "      <td>0.0</td>\n",
       "      <td>0.002786</td>\n",
       "      <td>0.000000</td>\n",
       "      <td>0.000000</td>\n",
       "      <td>0.0</td>\n",
       "      <td>1</td>\n",
       "    </tr>\n",
       "    <tr>\n",
       "      <th>3</th>\n",
       "      <td>272618</td>\n",
       "      <td>50742404</td>\n",
       "      <td>2</td>\n",
       "      <td>1</td>\n",
       "      <td>0.0</td>\n",
       "      <td>0.0</td>\n",
       "      <td>0.0</td>\n",
       "      <td>0</td>\n",
       "      <td>0.0</td>\n",
       "      <td>0.0</td>\n",
       "      <td>...</td>\n",
       "      <td>0.008403</td>\n",
       "      <td>0.0</td>\n",
       "      <td>0.000000</td>\n",
       "      <td>0.001681</td>\n",
       "      <td>0.0</td>\n",
       "      <td>0.000000</td>\n",
       "      <td>0.000000</td>\n",
       "      <td>0.008403</td>\n",
       "      <td>0.0</td>\n",
       "      <td>1</td>\n",
       "    </tr>\n",
       "    <tr>\n",
       "      <th>4</th>\n",
       "      <td>251123</td>\n",
       "      <td>45589200</td>\n",
       "      <td>2</td>\n",
       "      <td>2</td>\n",
       "      <td>0.0</td>\n",
       "      <td>0.0</td>\n",
       "      <td>0.0</td>\n",
       "      <td>0</td>\n",
       "      <td>0.0</td>\n",
       "      <td>0.0</td>\n",
       "      <td>...</td>\n",
       "      <td>0.204918</td>\n",
       "      <td>0.0</td>\n",
       "      <td>0.000000</td>\n",
       "      <td>0.049180</td>\n",
       "      <td>0.0</td>\n",
       "      <td>0.008197</td>\n",
       "      <td>0.057377</td>\n",
       "      <td>0.180328</td>\n",
       "      <td>0.0</td>\n",
       "      <td>1</td>\n",
       "    </tr>\n",
       "  </tbody>\n",
       "</table>\n",
       "<p>5 rows × 27 columns</p>\n",
       "</div>"
      ],
      "text/plain": [
       "   Unnamed: 0    userId  tier  gender  following_rate  followers_avg_age  \\\n",
       "0      265153  48958844     2       1             0.0                0.0   \n",
       "1      405231  51100441     2       2             0.0                0.0   \n",
       "2       57867   6887426     2       1             0.0                0.0   \n",
       "3      272618  50742404     2       1             0.0                0.0   \n",
       "4      251123  45589200     2       2             0.0                0.0   \n",
       "\n",
       "   following_avg_age  max_repetitive_punc  num_of_hashtags_per_action  \\\n",
       "0                0.0                    0                         0.0   \n",
       "1                0.0                    0                         0.0   \n",
       "2                0.0                    0                         0.0   \n",
       "3                0.0                    0                         0.0   \n",
       "4                0.0                    0                         0.0   \n",
       "\n",
       "   emoji_count_per_action  ...  content_views  num_of_comments  \\\n",
       "0                     0.0  ...       0.200000              0.0   \n",
       "1                     0.0  ...       0.093220              0.0   \n",
       "2                     0.0  ...       0.002786              0.0   \n",
       "3                     0.0  ...       0.008403              0.0   \n",
       "4                     0.0  ...       0.204918              0.0   \n",
       "\n",
       "   weekends_trails_watched_per_day  weekdays_trails_watched_per_day  \\\n",
       "0                         0.041667                         0.025000   \n",
       "1                         0.012712                         0.018644   \n",
       "2                         0.000000                         0.000557   \n",
       "3                         0.000000                         0.001681   \n",
       "4                         0.000000                         0.049180   \n",
       "\n",
       "   slot1_trails_watched_per_day  slot2_trails_watched_per_day  \\\n",
       "0                           0.0                      0.000000   \n",
       "1                           0.0                      0.084746   \n",
       "2                           0.0                      0.002786   \n",
       "3                           0.0                      0.000000   \n",
       "4                           0.0                      0.008197   \n",
       "\n",
       "   slot3_trails_watched_per_day  slot4_trails_watched_per_day  avgt2  \\\n",
       "0                      0.175000                      0.033333    0.0   \n",
       "1                      0.000000                      0.033898   82.5   \n",
       "2                      0.000000                      0.000000    0.0   \n",
       "3                      0.000000                      0.008403    0.0   \n",
       "4                      0.057377                      0.180328    0.0   \n",
       "\n",
       "   age_group  \n",
       "0          1  \n",
       "1          2  \n",
       "2          1  \n",
       "3          1  \n",
       "4          1  \n",
       "\n",
       "[5 rows x 27 columns]"
      ]
     },
     "execution_count": 5,
     "metadata": {},
     "output_type": "execute_result"
    }
   ],
   "source": [
    "trainset.head()"
   ]
  },
  {
   "cell_type": "code",
   "execution_count": 6,
   "metadata": {},
   "outputs": [
    {
     "name": "stdout",
     "output_type": "stream",
     "text": [
      "age group\n"
     ]
    },
    {
     "data": {
      "text/plain": [
       "count    488877.000000\n",
       "mean          1.741643\n",
       "std           1.088559\n",
       "min           1.000000\n",
       "25%           1.000000\n",
       "50%           1.000000\n",
       "75%           2.000000\n",
       "max           4.000000\n",
       "Name: age_group, dtype: float64"
      ]
     },
     "execution_count": 6,
     "metadata": {},
     "output_type": "execute_result"
    }
   ],
   "source": [
    "print(\"age group\")\n",
    "trainset['age_group'].describe()"
   ]
  },
  {
   "cell_type": "code",
   "execution_count": 7,
   "metadata": {},
   "outputs": [
    {
     "data": {
      "text/plain": [
       "<matplotlib.axes._subplots.AxesSubplot at 0x2cc97d6df88>"
      ]
     },
     "execution_count": 7,
     "metadata": {},
     "output_type": "execute_result"
    },
    {
     "data": {
      "image/png": "[encoded data removed]",
      "text/plain": [
       "<Figure size 432x288 with 1 Axes>"
      ]
     },
     "metadata": {
      "needs_background": "light"
     },
     "output_type": "display_data"
    }
   ],
   "source": [
    "trainset[\"age_group\"].value_counts().plot(kind = \"bar\")"
   ]
  },
  {
   "cell_type": "code",
   "execution_count": 8,
   "metadata": {},
   "outputs": [
    {
     "data": {
      "text/plain": [
       "1    308315\n",
       "4     60803\n",
       "3     60404\n",
       "2     59355\n",
       "Name: age_group, dtype: int64"
      ]
     },
     "execution_count": 8,
     "metadata": {},
     "output_type": "execute_result"
    }
   ],
   "source": [
    "trainset[\"age_group\"].value_counts()"
   ]
  },
  {
   "cell_type": "code",
   "execution_count": 9,
   "metadata": {},
   "outputs": [
    {
     "data": {
      "text/plain": [
       "<matplotlib.axes._subplots.AxesSubplot at 0x2cc984f5188>"
      ]
     },
     "execution_count": 9,
     "metadata": {},
     "output_type": "execute_result"
    },
    {
     "data": {
      "image/png": "[encoded data removed]",
      "text/plain": [
       "<Figure size 432x288 with 1 Axes>"
      ]
     },
     "metadata": {
      "needs_background": "light"
     },
     "output_type": "display_data"
    }
   ],
   "source": [
    "plt.title('tier')\n",
    "trainset['tier'].value_counts().plot.bar()"
   ]
  },
  {
   "cell_type": "code",
   "execution_count": 10,
   "metadata": {},
   "outputs": [],
   "source": [
    "#yo = trainset.drop(['Unnamed: 0', 'userId']).describe()\n",
    "#yo"
   ]
  },
  {
   "cell_type": "code",
   "execution_count": 11,
   "metadata": {},
   "outputs": [
    {
     "name": "stdout",
     "output_type": "stream",
     "text": [
      "Number of duplicates:  0\n"
     ]
    }
   ],
   "source": [
    "print('Number of duplicates: ',trainset.duplicated().sum())"
   ]
  },
  {
   "cell_type": "code",
   "execution_count": 12,
   "metadata": {
    "scrolled": true
   },
   "outputs": [],
   "source": [
    "y = trainset.age_group\n",
    "X = trainset.drop(['Unnamed: 0', 'userId','age_group'], axis=1)\n",
    "\n"
   ]
  },
  {
   "cell_type": "code",
   "execution_count": 13,
   "metadata": {},
   "outputs": [
    {
     "data": {
      "text/plain": [
       "(488877, 24)"
      ]
     },
     "execution_count": 13,
     "metadata": {},
     "output_type": "execute_result"
    }
   ],
   "source": [
    "X.shape"
   ]
  },
  {
   "cell_type": "code",
   "execution_count": 14,
   "metadata": {},
   "outputs": [
    {
     "data": {
      "text/plain": [
       "(488877,)"
      ]
     },
     "execution_count": 14,
     "metadata": {},
     "output_type": "execute_result"
    }
   ],
   "source": [
    "y.shape"
   ]
  },
  {
   "cell_type": "code",
   "execution_count": 33,
   "metadata": {},
   "outputs": [
    {
     "data": {
      "text/plain": [
       "<matplotlib.axes._subplots.AxesSubplot at 0x2cc9a0fdd48>"
      ]
     },
     "execution_count": 33,
     "metadata": {},
     "output_type": "execute_result"
    },
    {
     "data": {
      "image/png": "[encoded data removed]",
      "text/plain": [
       "<Figure size 432x288 with 1 Axes>"
      ]
     },
     "metadata": {
      "needs_background": "light"
     },
     "output_type": "display_data"
    }
   ],
   "source": [
    "import seaborn as sns\n",
    "sns.boxplot(x=X['content_views'])"
   ]
  },
  {
   "cell_type": "code",
   "execution_count": 15,
   "metadata": {},
   "outputs": [
    {
     "data": {
      "text/plain": [
       "array([0.01250592, 0.00311092, 0.0470494 , 0.03691703, 0.03472383,\n",
       "       0.03254394, 0.00096183, 0.00336648, 0.01379331, 0.10207676,\n",
       "       0.0485269 , 0.04507218, 0.04862948, 0.01279278, 0.12687002,\n",
       "       0.04988903, 0.0142584 , 0.041256  , 0.04811071, 0.02444894,\n",
       "       0.03977073, 0.04119513, 0.04263915, 0.12949111])"
      ]
     },
     "execution_count": 15,
     "metadata": {},
     "output_type": "execute_result"
    }
   ],
   "source": [
    "from sklearn.ensemble import ExtraTreesClassifier\n",
    "import matplotlib.pyplot as plt\n",
    "feature = ExtraTreesClassifier()\n",
    "feature.fit(X,y)\n",
    "\n",
    "score = feature.feature_importances_\n",
    "score"
   ]
  },
  {
   "cell_type": "code",
   "execution_count": 16,
   "metadata": {},
   "outputs": [
    {
     "data": {
      "image/png": "[encoded data removed]",
      "text/plain": [
       "<Figure size 720x1440 with 1 Axes>"
      ]
     },
     "metadata": {
      "needs_background": "light"
     },
     "output_type": "display_data"
    }
   ],
   "source": [
    "feat_score = pd.Series(score, index=X.columns).sort_values(ascending = False)\n",
    "\n",
    "plt.figure(figsize=(10,20))\n",
    "feat_score.plot(kind='barh')\n",
    "plt.show()"
   ]
  },
  {
   "cell_type": "code",
   "execution_count": 31,
   "metadata": {},
   "outputs": [
    {
     "data": {
      "text/plain": [
       "['avgt2',\n",
       " 'creations',\n",
       " 'number_of_words_per_action',\n",
       " 'content_views',\n",
       " 'avgDuration',\n",
       " 'avgCompletion',\n",
       " 'weekdays_trails_watched_per_day',\n",
       " 'following_rate',\n",
       " 'avgTimeSpent',\n",
       " 'slot4_trails_watched_per_day',\n",
       " 'weekends_trails_watched_per_day',\n",
       " 'slot3_trails_watched_per_day',\n",
       " 'slot2_trails_watched_per_day',\n",
       " 'followers_avg_age',\n",
       " 'following_avg_age',\n",
       " 'max_repetitive_punc',\n",
       " 'slot1_trails_watched_per_day',\n",
       " 'num_of_comments',\n",
       " 'punctuations_per_action',\n",
       " 'avgComments',\n",
       " 'tier']"
      ]
     },
     "execution_count": 31,
     "metadata": {},
     "output_type": "execute_result"
    }
   ],
   "source": [
    "top_feature = list(feat_score.index[0:21])\n",
    "top_feature"
   ]
  },
  {
   "cell_type": "code",
   "execution_count": 32,
   "metadata": {},
   "outputs": [
    {
     "data": {
      "text/plain": [
       "avgt2                              0.129491\n",
       "creations                          0.126870\n",
       "number_of_words_per_action         0.102077\n",
       "content_views                      0.049889\n",
       "avgDuration                        0.048629\n",
       "avgCompletion                      0.048527\n",
       "weekdays_trails_watched_per_day    0.048111\n",
       "following_rate                     0.047049\n",
       "avgTimeSpent                       0.045072\n",
       "slot4_trails_watched_per_day       0.042639\n",
       "weekends_trails_watched_per_day    0.041256\n",
       "slot3_trails_watched_per_day       0.041195\n",
       "slot2_trails_watched_per_day       0.039771\n",
       "followers_avg_age                  0.036917\n",
       "following_avg_age                  0.034724\n",
       "max_repetitive_punc                0.032544\n",
       "slot1_trails_watched_per_day       0.024449\n",
       "num_of_comments                    0.014258\n",
       "punctuations_per_action            0.013793\n",
       "avgComments                        0.012793\n",
       "tier                               0.012506\n",
       "emoji_count_per_action             0.003366\n",
       "gender                             0.003111\n",
       "num_of_hashtags_per_action         0.000962\n",
       "dtype: float64"
      ]
     },
     "execution_count": 32,
     "metadata": {},
     "output_type": "execute_result"
    }
   ],
   "source": [
    "feat_score"
   ]
  },
  {
   "cell_type": "code",
   "execution_count": 19,
   "metadata": {},
   "outputs": [
    {
     "name": "stdout",
     "output_type": "stream",
     "text": [
      "(488877, 18)\n",
      "(54320, 18)\n"
     ]
    }
   ],
   "source": [
    "trainset_imp = trainset[top_feature]\n",
    "testset_imp = testset[top_feature]\n",
    "\n",
    "print(trainset_imp.shape)\n",
    "print(testset_imp.shape)\n",
    "\n",
    "\n",
    "# Standarize features\n",
    "#scaler = StandardScaler()\n",
    "#X_std = scaler.fit_transform(X)"
   ]
  },
  {
   "cell_type": "code",
   "execution_count": 20,
   "metadata": {},
   "outputs": [
    {
     "name": "stdout",
     "output_type": "stream",
     "text": [
      "(342213, 18)\n",
      "(146664, 18)\n"
     ]
    }
   ],
   "source": [
    "# train test split\n",
    "\n",
    "from sklearn.model_selection import train_test_split as tts\n",
    "\n",
    "x_train,x_test,y_train,y_test = tts(trainset_imp,y,test_size=0.3,random_state=4)\n",
    "print(x_train.shape)\n",
    "\n",
    "print(x_test.shape)\n",
    "\n"
   ]
  },
  {
   "cell_type": "code",
   "execution_count": 21,
   "metadata": {},
   "outputs": [
    {
     "data": {
      "text/plain": [
       "array([[ 1.03914436e-01, -5.87024568e-03, -2.20969335e-01, ...,\n",
       "        -2.34060040e-01, -1.66475953e-01, -6.85206574e-02],\n",
       "       [-7.36428443e-02,  8.01315087e-02,  3.95441193e-02, ...,\n",
       "         6.08840716e+00,  3.82372059e-02,  1.55699843e+00],\n",
       "       [ 2.59933117e-02, -6.76126816e-02,  6.08894247e-01, ...,\n",
       "        -2.34060040e-01, -1.66475953e-01, -6.85206574e-02],\n",
       "       ...,\n",
       "       [-1.67628875e-01, -8.78719207e-02, -2.60113843e-01, ...,\n",
       "        -2.34060040e-01, -1.66475953e-01, -6.85206574e-02],\n",
       "       [ 8.67750631e-03, -7.80129405e-02,  1.18823297e+00, ...,\n",
       "        -2.34060040e-01, -1.66475953e-01, -6.85206574e-02],\n",
       "       [-1.67628875e-01, -8.78719207e-02, -2.60113843e-01, ...,\n",
       "        -2.34060040e-01, -1.66475953e-01, -6.85206574e-02]])"
      ]
     },
     "execution_count": 21,
     "metadata": {},
     "output_type": "execute_result"
    }
   ],
   "source": [
    "from sklearn import preprocessing\n",
    "scaler = preprocessing.StandardScaler().fit(x_train)\n",
    "scaler\n",
    "\n",
    "scaler.transform(x_train)\n",
    "scaler.transform(x_test)"
   ]
  },
  {
   "cell_type": "code",
   "execution_count": 22,
   "metadata": {},
   "outputs": [],
   "source": [
    "from sklearn.ensemble import RandomForestClassifier as RFS\n",
    "model = RFS(random_state=24,n_estimators=250,max_depth=20)\n",
    "\n",
    "#model.fit(x_train,y_train)\n",
    "\n",
    "model.fit(x_train,y_train)\n",
    "\n",
    "y_predict = model.predict(x_test)\n"
   ]
  },
  {
   "cell_type": "code",
   "execution_count": 23,
   "metadata": {},
   "outputs": [
    {
     "name": "stdout",
     "output_type": "stream",
     "text": [
      "Accuracy: 0.7237495227185948\n"
     ]
    }
   ],
   "source": [
    "from sklearn import metrics\n",
    "\n",
    "print(\"Accuracy:\",metrics.accuracy_score(y_test, y_predict))"
   ]
  },
  {
   "cell_type": "code",
   "execution_count": 24,
   "metadata": {},
   "outputs": [
    {
     "name": "stdout",
     "output_type": "stream",
     "text": [
      "f1score: 0.7229461206845108\n"
     ]
    }
   ],
   "source": [
    "print(\"f1score:\", metrics.f1_score(y_test, y_predict , average='weighted'))"
   ]
  },
  {
   "cell_type": "code",
   "execution_count": 25,
   "metadata": {},
   "outputs": [],
   "source": [
    "predictions = model.predict(testset_imp)"
   ]
  },
  {
   "cell_type": "code",
   "execution_count": 26,
   "metadata": {},
   "outputs": [],
   "source": [
    "res = pd.DataFrame(predictions) #preditcions are nothing but the final predictions of your model on input features of your new unseen test data\n",
    "#res.index = testset_imp.index # its important for comparison. Here \"test_new\" is your new test dataset\n",
    "res.columns = [\"prediction\"]\n",
    "res.to_csv(\"prediction_results.csv\", index = False)  "
   ]
  },
  {
   "cell_type": "code",
   "execution_count": 27,
   "metadata": {},
   "outputs": [],
   "source": [
    "#using KNN\n",
    "from sklearn.neighbors import KNeighborsClassifier \n",
    "model = KNeighborsClassifier(n_neighbors=7)\n",
    "model.fit(x_train,y_train)\n",
    "\n",
    "#Predicting the response for test dataset\n",
    "y_pred = model.predict(x_test)"
   ]
  },
  {
   "cell_type": "code",
   "execution_count": 28,
   "metadata": {},
   "outputs": [
    {
     "name": "stdout",
     "output_type": "stream",
     "text": [
      "Accuracy: 0.7237495227185948\n",
      "f1score: 0.7229461206845108\n"
     ]
    }
   ],
   "source": [
    "print(\"Accuracy:\",metrics.accuracy_score(y_test, y_predict))\n",
    "print(\"f1score:\", metrics.f1_score(y_test, y_predict , average='weighted'))"
   ]
  },
  {
   "cell_type": "code",
   "execution_count": 29,
   "metadata": {},
   "outputs": [],
   "source": [
    "prediction = model.predict(testset_imp)\n",
    "rest = pd.DataFrame(prediction) #preditcions are nothing but the final predictions of your model on input features of your new unseen test data\n",
    "#rest.index = testset_imp.index \n",
    "rest.columns = [\"prediction\"]\n",
    "rest.to_csv(\"prediction_result.csv\", index = False)  "
   ]
  },
  {
   "cell_type": "code",
   "execution_count": null,
   "metadata": {},
   "outputs": [],
   "source": []
  }
 ],
 "metadata": {
  "kernelspec": {
   "display_name": "Python 3",
   "language": "python",
   "name": "python3"
  },
  "language_info": {
   "codemirror_mode": {
    "name": "ipython",
    "version": 3
   },
   "file_extension": ".py",
   "mimetype": "text/x-python",
   "name": "python",
   "nbconvert_exporter": "python",
   "pygments_lexer": "ipython3",
   "version": "3.7.6"
  }
 },
 "nbformat": 4,
 "nbformat_minor": 4
}
